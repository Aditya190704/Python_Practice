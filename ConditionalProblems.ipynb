{
 "cells": [
  {
   "cell_type": "markdown",
   "id": "55cf2e41",
   "metadata": {},
   "source": [
    "1. Age Group Categorization"
   ]
  },
  {
   "cell_type": "code",
   "execution_count": null,
   "id": "e25b36f1",
   "metadata": {},
   "outputs": [
    {
     "name": "stdout",
     "output_type": "stream",
     "text": [
      "Adults\n"
     ]
    }
   ],
   "source": [
    "# Classify a Person's age group: Child(<13), Teenagers(13-19), Adult(20-59), Senior(60+)\n",
    "\n",
    "Age = int(input(\"Enter The Age\"))\n",
    "if Age < 13:\n",
    "    print(\"Child\")\n",
    "elif Age < 20:\n",
    "    print(\"Teenagers\")\n",
    "elif Age < 60:\n",
    "    print(\"Adults\")\n",
    "else:\n",
    "    print(\"Seniors\") "
   ]
  },
  {
   "cell_type": "markdown",
   "id": "29a73fa2",
   "metadata": {},
   "source": [
    "2. Movie Ticket Pricing"
   ]
  },
  {
   "cell_type": "code",
   "execution_count": null,
   "id": "72df0f87",
   "metadata": {},
   "outputs": [
    {
     "name": "stdout",
     "output_type": "stream",
     "text": [
      "10\n"
     ]
    }
   ],
   "source": [
    "# Movie tickets are priced based on age: 12 for adults(18 and over), 8 for children. Everyone gets a 2 discount on Wednesday\n",
    "\n",
    "age = int(input(\"Enter Age\"))\n",
    "day = input(\"Enter Day\")\n",
    "\n",
    "price = 12 if age > 18 else 8\n",
    "\n",
    "if day == \"Wednesday\":\n",
    "    price = price - 2\n",
    "\n",
    "print(price)"
   ]
  },
  {
   "cell_type": "markdown",
   "id": "c8555a18",
   "metadata": {},
   "source": [
    "3. Grade Calculator"
   ]
  },
  {
   "cell_type": "code",
   "execution_count": 2,
   "id": "a55b62dc",
   "metadata": {},
   "outputs": [
    {
     "name": "stdout",
     "output_type": "stream",
     "text": [
      "Grade A\n"
     ]
    }
   ],
   "source": [
    "score = int(input(\"Enter your Grade\"))\n",
    "\n",
    "if score >= 101:\n",
    "    print(\"Please verify your grade again\")\n",
    "elif score >= 90:\n",
    "    print(\"Grade A\")\n",
    "elif score >= 80:\n",
    "    print(\"Grade B\")\n",
    "elif score >= 70:\n",
    "    print(\"Grade C\")\n",
    "elif score >= 60:\n",
    "    print(\"Grade D\")\n",
    "else:\n",
    "    print(\"Grade F\")"
   ]
  },
  {
   "cell_type": "code",
   "execution_count": null,
   "id": "eb1e7d7a",
   "metadata": {},
   "outputs": [],
   "source": []
  },
  {
   "cell_type": "code",
   "execution_count": null,
   "id": "cba41f05",
   "metadata": {},
   "outputs": [],
   "source": []
  }
 ],
 "metadata": {
  "kernelspec": {
   "display_name": "Python 3",
   "language": "python",
   "name": "python3"
  },
  "language_info": {
   "codemirror_mode": {
    "name": "ipython",
    "version": 3
   },
   "file_extension": ".py",
   "mimetype": "text/x-python",
   "name": "python",
   "nbconvert_exporter": "python",
   "pygments_lexer": "ipython3",
   "version": "3.12.4"
  }
 },
 "nbformat": 4,
 "nbformat_minor": 5
}
