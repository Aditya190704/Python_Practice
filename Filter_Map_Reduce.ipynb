{
 "cells": [
  {
   "cell_type": "markdown",
   "id": "92acfb3d",
   "metadata": {},
   "source": [
    "filter\n",
    "\n",
    "syntax - list(filter(function, data))"
   ]
  },
  {
   "cell_type": "code",
   "execution_count": 3,
   "id": "9bc0df5f",
   "metadata": {},
   "outputs": [],
   "source": [
    "l1 = [1, 2, 3, 4, 5, 6, 7, 8, 9, 10]"
   ]
  },
  {
   "cell_type": "code",
   "execution_count": 4,
   "id": "c2002a96",
   "metadata": {},
   "outputs": [
    {
     "data": {
      "text/plain": [
       "[1, 3, 5, 7, 9]"
      ]
     },
     "execution_count": 4,
     "metadata": {},
     "output_type": "execute_result"
    }
   ],
   "source": [
    "list(filter(lambda x:x%2==1, l1))"
   ]
  },
  {
   "cell_type": "code",
   "execution_count": 6,
   "id": "f94d92a8",
   "metadata": {},
   "outputs": [],
   "source": [
    "def odd(x):\n",
    "    if x%2==1:\n",
    "        return True\n",
    "    else:\n",
    "        return False"
   ]
  },
  {
   "cell_type": "code",
   "execution_count": 7,
   "id": "d007c363",
   "metadata": {},
   "outputs": [
    {
     "data": {
      "text/plain": [
       "[1, 3, 5, 7, 9]"
      ]
     },
     "execution_count": 7,
     "metadata": {},
     "output_type": "execute_result"
    }
   ],
   "source": [
    "list(filter(odd, l1))"
   ]
  },
  {
   "cell_type": "code",
   "execution_count": 10,
   "id": "75639448",
   "metadata": {},
   "outputs": [],
   "source": [
    "def even(y):\n",
    "    if y%2==0:\n",
    "        return True\n",
    "    else:\n",
    "        return False"
   ]
  },
  {
   "cell_type": "code",
   "execution_count": 11,
   "id": "7adf8af3",
   "metadata": {},
   "outputs": [
    {
     "data": {
      "text/plain": [
       "[2, 4, 6, 8, 10]"
      ]
     },
     "execution_count": 11,
     "metadata": {},
     "output_type": "execute_result"
    }
   ],
   "source": [
    "list(filter(even, l1))"
   ]
  },
  {
   "cell_type": "markdown",
   "id": "a36b3a51",
   "metadata": {},
   "source": [
    "map\n",
    "\n",
    "syntax - list(map(function, data))"
   ]
  },
  {
   "cell_type": "code",
   "execution_count": 13,
   "id": "f61ccc9c",
   "metadata": {},
   "outputs": [
    {
     "data": {
      "text/plain": [
       "[1, 4, 9, 16, 25, 36, 49, 64, 81, 100]"
      ]
     },
     "execution_count": 13,
     "metadata": {},
     "output_type": "execute_result"
    }
   ],
   "source": [
    "list(map(lambda x:x**2, l1))"
   ]
  },
  {
   "cell_type": "code",
   "execution_count": 14,
   "id": "f4479f12",
   "metadata": {},
   "outputs": [
    {
     "data": {
      "text/plain": [
       "[1, 32, 243, 1024, 3125, 7776, 16807, 32768, 59049, 100000]"
      ]
     },
     "execution_count": 14,
     "metadata": {},
     "output_type": "execute_result"
    }
   ],
   "source": [
    "list(map(lambda x:x**5, l1))"
   ]
  },
  {
   "cell_type": "code",
   "execution_count": 17,
   "id": "675cedc9",
   "metadata": {},
   "outputs": [
    {
     "data": {
      "text/plain": [
       "[3.14, 12.56, 28.26, 50.24, 78.5, 113.04, 153.86, 200.96, 254.34, 314.0]"
      ]
     },
     "execution_count": 17,
     "metadata": {},
     "output_type": "execute_result"
    }
   ],
   "source": [
    "list(map(lambda r:3.14*r**2, l1))"
   ]
  },
  {
   "cell_type": "code",
   "execution_count": 18,
   "id": "ef63866b",
   "metadata": {},
   "outputs": [
    {
     "data": {
      "text/plain": [
       "[1, 4, 9, 16, 25, 36, 49, 64, 81, 100]"
      ]
     },
     "execution_count": 18,
     "metadata": {},
     "output_type": "execute_result"
    }
   ],
   "source": [
    "list(map(lambda s:s**2, l1))"
   ]
  },
  {
   "cell_type": "code",
   "execution_count": 19,
   "id": "1b6b82d7",
   "metadata": {},
   "outputs": [],
   "source": [
    "import functools"
   ]
  },
  {
   "cell_type": "markdown",
   "id": "c7dc3898",
   "metadata": {},
   "source": [
    "reduce(function, data)"
   ]
  },
  {
   "cell_type": "code",
   "execution_count": 20,
   "id": "78077e15",
   "metadata": {},
   "outputs": [
    {
     "data": {
      "text/plain": [
       "55"
      ]
     },
     "execution_count": 20,
     "metadata": {},
     "output_type": "execute_result"
    }
   ],
   "source": [
    "functools.reduce(lambda a,b:a+b, l1)"
   ]
  },
  {
   "cell_type": "code",
   "execution_count": 21,
   "id": "41c70502",
   "metadata": {},
   "outputs": [],
   "source": [
    "l2 = [23, 45, 54, 3, 44, 34, 78, 98, 78, 40]"
   ]
  },
  {
   "cell_type": "code",
   "execution_count": 23,
   "id": "f76fddf3",
   "metadata": {},
   "outputs": [],
   "source": [
    "def greater(x, y):\n",
    "    if x>y:\n",
    "        return x\n",
    "    else:\n",
    "        return y"
   ]
  },
  {
   "cell_type": "code",
   "execution_count": 24,
   "id": "423b1fe7",
   "metadata": {},
   "outputs": [
    {
     "data": {
      "text/plain": [
       "98"
      ]
     },
     "execution_count": 24,
     "metadata": {},
     "output_type": "execute_result"
    }
   ],
   "source": [
    "functools.reduce(greater, l2)"
   ]
  },
  {
   "cell_type": "code",
   "execution_count": 25,
   "id": "2cdee137",
   "metadata": {},
   "outputs": [
    {
     "data": {
      "text/plain": [
       "98"
      ]
     },
     "execution_count": 25,
     "metadata": {},
     "output_type": "execute_result"
    }
   ],
   "source": [
    "functools.reduce(lambda x, y:x if x>y else y, l2)"
   ]
  },
  {
   "cell_type": "code",
   "execution_count": 26,
   "id": "608e4da5",
   "metadata": {},
   "outputs": [
    {
     "data": {
      "text/plain": [
       "10"
      ]
     },
     "execution_count": 26,
     "metadata": {},
     "output_type": "execute_result"
    }
   ],
   "source": [
    "functools.reduce(lambda x, y:x if x>y else y, l1)"
   ]
  },
  {
   "cell_type": "code",
   "execution_count": null,
   "id": "2423a867",
   "metadata": {},
   "outputs": [],
   "source": []
  }
 ],
 "metadata": {
  "kernelspec": {
   "display_name": "Python 3",
   "language": "python",
   "name": "python3"
  },
  "language_info": {
   "codemirror_mode": {
    "name": "ipython",
    "version": 3
   },
   "file_extension": ".py",
   "mimetype": "text/x-python",
   "name": "python",
   "nbconvert_exporter": "python",
   "pygments_lexer": "ipython3",
   "version": "3.12.4"
  }
 },
 "nbformat": 4,
 "nbformat_minor": 5
}
