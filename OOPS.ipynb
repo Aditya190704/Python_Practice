{
 "cells": [
  {
   "cell_type": "markdown",
   "id": "37be77da",
   "metadata": {},
   "source": [
    "1. Basic Class and Object, class method and self"
   ]
  },
  {
   "cell_type": "code",
   "execution_count": 17,
   "id": "96e9a44e",
   "metadata": {},
   "outputs": [],
   "source": [
    "class Car:                     # class\n",
    "    def __init__(self, brand, model):\n",
    "        self.brand = brand\n",
    "        self.model = model\n",
    "    def full_name(self):\n",
    "        return f\"{self.brand} {self.model}\""
   ]
  },
  {
   "cell_type": "code",
   "execution_count": 18,
   "id": "1e88649a",
   "metadata": {},
   "outputs": [
    {
     "name": "stdout",
     "output_type": "stream",
     "text": [
      "Toyota\n",
      "Corolla\n",
      "Toyota Corolla\n"
     ]
    }
   ],
   "source": [
    "my_car = Car (\"Toyota\", \"Corolla\")        # Object\n",
    "print(my_car.brand)\n",
    "print(my_car.model)\n",
    "print(my_car.full_name())"
   ]
  },
  {
   "cell_type": "code",
   "execution_count": null,
   "id": "d64f5bfe",
   "metadata": {},
   "outputs": [
    {
     "name": "stdout",
     "output_type": "stream",
     "text": [
      "Tata\n",
      "Safari\n"
     ]
    }
   ],
   "source": [
    "my_new_car = Car(\"Tata\", \"Safari\")           # Object\n",
    "print(my_new_car.brand)\n",
    "print(my_new_car.model)"
   ]
  },
  {
   "cell_type": "markdown",
   "id": "77368771",
   "metadata": {},
   "source": [
    "2. Class Method and Self"
   ]
  },
  {
   "cell_type": "code",
   "execution_count": null,
   "id": "aa6017c9",
   "metadata": {},
   "outputs": [],
   "source": [
    "2. "
   ]
  },
  {
   "cell_type": "markdown",
   "id": "b3c8f92a",
   "metadata": {},
   "source": []
  }
 ],
 "metadata": {
  "kernelspec": {
   "display_name": "Python 3",
   "language": "python",
   "name": "python3"
  },
  "language_info": {
   "codemirror_mode": {
    "name": "ipython",
    "version": 3
   },
   "file_extension": ".py",
   "mimetype": "text/x-python",
   "name": "python",
   "nbconvert_exporter": "python",
   "pygments_lexer": "ipython3",
   "version": "3.12.4"
  }
 },
 "nbformat": 4,
 "nbformat_minor": 5
}
