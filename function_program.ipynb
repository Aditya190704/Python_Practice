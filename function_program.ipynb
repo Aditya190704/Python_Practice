{
 "cells": [
  {
   "cell_type": "code",
   "execution_count": null,
   "id": "9dafe167",
   "metadata": {},
   "outputs": [
    {
     "name": "stdout",
     "output_type": "stream",
     "text": [
      "Hello, This is Aditya\n"
     ]
    }
   ],
   "source": [
    "# Function that prints a text\n",
    "\n",
    "def  print_message():\n",
    "    print(\"Hello, This is Aditya\")\n",
    "\n",
    "print_message()"
   ]
  },
  {
   "cell_type": "code",
   "execution_count": 2,
   "id": "328caab1",
   "metadata": {},
   "outputs": [
    {
     "name": "stdout",
     "output_type": "stream",
     "text": [
      "8\n"
     ]
    }
   ],
   "source": [
    "# Function that accepts two numbers and returns the sum\n",
    "\n",
    "def add_numbers(a, b):\n",
    "    sum = a + b\n",
    "    return sum\n",
    "\n",
    "result = add_numbers(5, 3)\n",
    "print(result)"
   ]
  },
  {
   "cell_type": "code",
   "execution_count": 3,
   "id": "66d977fd",
   "metadata": {},
   "outputs": [],
   "source": [
    "result = add_numbers(10, 30)"
   ]
  },
  {
   "cell_type": "code",
   "execution_count": 4,
   "id": "2c804733",
   "metadata": {},
   "outputs": [
    {
     "data": {
      "text/plain": [
       "40"
      ]
     },
     "execution_count": 4,
     "metadata": {},
     "output_type": "execute_result"
    }
   ],
   "source": [
    "result"
   ]
  },
  {
   "cell_type": "code",
   "execution_count": null,
   "id": "9b648602",
   "metadata": {},
   "outputs": [
    {
     "name": "stdout",
     "output_type": "stream",
     "text": [
      "[1, 'Aditya', 3.14, True]\n"
     ]
    }
   ],
   "source": [
    "# Function that accepts different values as parameters and returns a list\n",
    "\n",
    "def create_list(*args):\n",
    "    return list(args)\n",
    "\n",
    "values = create_list(1, 'Aditya', 3.14, True)\n",
    "print(values)"
   ]
  },
  {
   "cell_type": "code",
   "execution_count": 7,
   "id": "ec936369",
   "metadata": {},
   "outputs": [
    {
     "name": "stdout",
     "output_type": "stream",
     "text": [
      "{'Name': 'Aditya', 'Age': 21, 'Course': 'AIML', 'Address': 'Wardha'}\n"
     ]
    }
   ],
   "source": [
    "# Function that returns a dictionary\n",
    "\n",
    "def get_student():\n",
    "    dict = {\"Name\": \"Aditya\", \"Age\": 21, \"Course\":\"AIML\", \"Address\": \"Wardha\"}\n",
    "    return dict\n",
    "\n",
    "print(get_student())"
   ]
  },
  {
   "cell_type": "code",
   "execution_count": 9,
   "id": "e6411184",
   "metadata": {},
   "outputs": [
    {
     "name": "stdout",
     "output_type": "stream",
     "text": [
      "X: 10 Y: 20\n"
     ]
    }
   ],
   "source": [
    "# Function that returns a tuple\n",
    "\n",
    "\n",
    "def get_coordinates():\n",
    "    return (10, 20)\n",
    "\n",
    "x, y = get_coordinates()\n",
    "print(\"X:\", x, \"Y:\", y)\n",
    "\n",
    "\n"
   ]
  },
  {
   "cell_type": "code",
   "execution_count": 11,
   "id": "356f2a38",
   "metadata": {},
   "outputs": [
    {
     "name": "stdout",
     "output_type": "stream",
     "text": [
      "15\n"
     ]
    }
   ],
   "source": [
    "# Function that accepts a list as a parameter\n",
    "\n",
    "def sum_list(numbers):\n",
    "    return sum(numbers)\n",
    "\n",
    "print(sum_list([1, 2, 3, 4, 5]))\n"
   ]
  },
  {
   "cell_type": "code",
   "execution_count": null,
   "id": "5b5ce469",
   "metadata": {},
   "outputs": [],
   "source": []
  }
 ],
 "metadata": {
  "kernelspec": {
   "display_name": "Python 3",
   "language": "python",
   "name": "python3"
  },
  "language_info": {
   "codemirror_mode": {
    "name": "ipython",
    "version": 3
   },
   "file_extension": ".py",
   "mimetype": "text/x-python",
   "name": "python",
   "nbconvert_exporter": "python",
   "pygments_lexer": "ipython3",
   "version": "3.12.4"
  }
 },
 "nbformat": 4,
 "nbformat_minor": 5
}
