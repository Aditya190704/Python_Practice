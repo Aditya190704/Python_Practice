{
 "cells": [
  {
   "cell_type": "code",
   "execution_count": null,
   "id": "8a61361d",
   "metadata": {},
   "outputs": [
    {
     "name": "stdout",
     "output_type": "stream",
     "text": [
      "Armstrong\n"
     ]
    }
   ],
   "source": [
    "# Write a Program to check whether the number is Armstrong or not\n",
    "\n",
    "num = int(input())\n",
    "sum = 0\n",
    "temp = num\n",
    "\n",
    "while temp > 0:\n",
    "    digit = temp % 10\n",
    "    sum += digit ** 3\n",
    "    temp //= 10\n",
    "\n",
    "if sum == num:\n",
    "    print(\"Armstrong\")\n",
    "else:\n",
    "    print(\"Not Armstrong\")"
   ]
  },
  {
   "cell_type": "code",
   "execution_count": null,
   "id": "45a8d510",
   "metadata": {},
   "outputs": [
    {
     "name": "stdout",
     "output_type": "stream",
     "text": [
      "Even\n"
     ]
    }
   ],
   "source": [
    "# Write a Program to check whether the number is even or not\n",
    "\n",
    "n = int(input())\n",
    "\n",
    "if n % 2 == 0:\n",
    "    print(\"Even\")\n",
    "else:\n",
    "    print(\"Odd\")"
   ]
  },
  {
   "cell_type": "code",
   "execution_count": null,
   "id": "1a83bb9d",
   "metadata": {},
   "outputs": [
    {
     "name": "stdout",
     "output_type": "stream",
     "text": [
      "Negative\n"
     ]
    }
   ],
   "source": [
    "# Write a Program to check whether the number is positive, negative or neutral \n",
    "\n",
    "n = int(input())\n",
    "\n",
    "if n > 0:\n",
    "    print(\"Positive\")\n",
    "elif n < 0:\n",
    "    print(\"Negative\")\n",
    "else:\n",
    "    print(\"Neutral\")"
   ]
  },
  {
   "cell_type": "code",
   "execution_count": null,
   "id": "cc96fbf9",
   "metadata": {},
   "outputs": [
    {
     "name": "stdout",
     "output_type": "stream",
     "text": [
      "Prime\n"
     ]
    }
   ],
   "source": [
    "# Write a program to check whether the number is prime or not\n",
    "\n",
    "n = int(input())\n",
    "\n",
    "if n <= 1:\n",
    "    print(\"Not Prime\")\n",
    "else:\n",
    "    for i in range(2, int(n ** 0.5) +1):\n",
    "        if n % i == 0:\n",
    "            print(\"Not Prime\")\n",
    "            break\n",
    "    else:\n",
    "        print(\"Prime\")"
   ]
  },
  {
   "cell_type": "code",
   "execution_count": 4,
   "id": "244c2ca5",
   "metadata": {},
   "outputs": [
    {
     "name": "stdout",
     "output_type": "stream",
     "text": [
      "Largest no. is 57\n"
     ]
    }
   ],
   "source": [
    "# Write a program that takes three numbers as input and prints the largest among them.\n",
    "\n",
    "num1 = int(input(\"First no.\"))\n",
    "num2 = int(input(\"Second no.\"))\n",
    "num3 = int(input(\"Third no.\"))\n",
    "\n",
    "if num1 > num2 and num1 > num3:\n",
    "    print(\"Largest no. is \", num1)\n",
    "elif num2 > num1 and num2 > num3:\n",
    "    print(\"Largest no. is\", num2)\n",
    "else:\n",
    "    print(\"Largest no. is\", num3)"
   ]
  },
  {
   "cell_type": "code",
   "execution_count": 7,
   "id": "4f3bfae4",
   "metadata": {},
   "outputs": [
    {
     "name": "stdout",
     "output_type": "stream",
     "text": [
      "Leap Year\n"
     ]
    }
   ],
   "source": [
    "# Write a program to check whether a given year is a leap year or not.\n",
    "\n",
    "year = int(input(\"Enter year\"))\n",
    "\n",
    "if year % 4 == 0 and year % 100 != 0 or year % 400 == 0:\n",
    "    print(\"Leap Year\")\n",
    "else:\n",
    "    print(\"Not a Leap year\")"
   ]
  },
  {
   "cell_type": "code",
   "execution_count": null,
   "id": "a175f271",
   "metadata": {},
   "outputs": [
    {
     "name": "stdout",
     "output_type": "stream",
     "text": [
      "Sum of digits 15\n"
     ]
    }
   ],
   "source": [
    "# Write a program to calculate the sum of digits of a given number\n",
    "\n",
    "num = int(input(\"Enter Number\"))\n",
    "sum = 0\n",
    "\n",
    "while num > 0:\n",
    "    digit = num % 10\n",
    "    sum += digit\n",
    "    num = num // 10\n",
    "\n",
    "print(\"Sum of digits\", sum)"
   ]
  },
  {
   "cell_type": "code",
   "execution_count": 9,
   "id": "ec4cc4cb",
   "metadata": {},
   "outputs": [
    {
     "name": "stdout",
     "output_type": "stream",
     "text": [
      "Palindrome\n"
     ]
    }
   ],
   "source": [
    "# Write a program to check whether the number is palindrome or not\n",
    "\n",
    "num  = int(input(\"Enter any number\"))\n",
    "temp = num\n",
    "rev = 0\n",
    "\n",
    "while num > 0:\n",
    "    digit = num % 10\n",
    "    rev = rev * 10 + digit\n",
    "    num = num // 10\n",
    "\n",
    "if temp == rev:\n",
    "    print(\"Palindrome\")\n",
    "else:\n",
    "    print(\"Not Palindrome\")"
   ]
  },
  {
   "cell_type": "code",
   "execution_count": 10,
   "id": "c6caa3bd",
   "metadata": {},
   "outputs": [
    {
     "name": "stdout",
     "output_type": "stream",
     "text": [
      "Perfect Number\n"
     ]
    }
   ],
   "source": [
    "# Write a program to check whether the number is perfect number or not\n",
    "\n",
    "num = int(input(\"Enter Number\"))\n",
    "sum = 0\n",
    "\n",
    "for i in range(1, num):\n",
    "    if num % i == 0:\n",
    "        sum += i\n",
    "\n",
    "if sum == num:\n",
    "    print(\"Perfect Number\")\n",
    "else:\n",
    "    print(\"Not perfect Number\")"
   ]
  },
  {
   "cell_type": "code",
   "execution_count": 12,
   "id": "254b4a2e",
   "metadata": {},
   "outputs": [
    {
     "name": "stdout",
     "output_type": "stream",
     "text": [
      "Divisible by 5\n"
     ]
    }
   ],
   "source": [
    "# Write a program to check if a number  is divisible by 5 and 11\n",
    "\n",
    "num = int(input(\"Enter a number:\"))\n",
    "\n",
    "if num % 5 == 0:\n",
    "    print(\"Divisible by 5\")\n",
    "elif num % 11 == 0:\n",
    "    print(\"Divisible by 11\")\n",
    "else:\n",
    "    print(\"Not Divisible by both 5 and 11\")"
   ]
  },
  {
   "cell_type": "code",
   "execution_count": null,
   "id": "a32746e5",
   "metadata": {},
   "outputs": [],
   "source": []
  }
 ],
 "metadata": {
  "kernelspec": {
   "display_name": "Python 3",
   "language": "python",
   "name": "python3"
  },
  "language_info": {
   "codemirror_mode": {
    "name": "ipython",
    "version": 3
   },
   "file_extension": ".py",
   "mimetype": "text/x-python",
   "name": "python",
   "nbconvert_exporter": "python",
   "pygments_lexer": "ipython3",
   "version": "3.12.4"
  }
 },
 "nbformat": 4,
 "nbformat_minor": 5
}
