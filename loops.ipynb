{
 "cells": [
  {
   "cell_type": "code",
   "execution_count": null,
   "id": "65196e5f",
   "metadata": {},
   "outputs": [
    {
     "name": "stdout",
     "output_type": "stream",
     "text": [
      "Final Count of positive number is: 6\n"
     ]
    }
   ],
   "source": [
    "# Counting Positive Numbers\n",
    "\n",
    "numbers = [1, -2, 3, -4, 5, 6, -7, -8, 9, 10]\n",
    "positive_number_count = 0\n",
    "for num in numbers:\n",
    "    if num > 0:\n",
    "        positive_number_count += 1\n",
    "print(\"Final Count of positive number is:\", positive_number_count)"
   ]
  },
  {
   "cell_type": "code",
   "execution_count": 5,
   "id": "e8516214",
   "metadata": {},
   "outputs": [
    {
     "name": "stdout",
     "output_type": "stream",
     "text": [
      "Sum of even Numbers is:  5\n"
     ]
    }
   ],
   "source": [
    "# Sum of Even Numbers\n",
    "\n",
    "n = 10\n",
    "sum_even = 0\n",
    "\n",
    "for i in range(1, n + 1):\n",
    "    if i % 2 == 0:\n",
    "        sum_even += 1\n",
    "print(\"Sum of even Numbers is: \", sum_even)"
   ]
  },
  {
   "cell_type": "code",
   "execution_count": null,
   "id": "c70e177a",
   "metadata": {},
   "outputs": [
    {
     "name": "stdout",
     "output_type": "stream",
     "text": [
      "2\n",
      "4\n",
      "6\n",
      "8\n",
      "12\n",
      "14\n",
      "16\n",
      "18\n",
      "20\n"
     ]
    }
   ],
   "source": [
    "# Multiplication table Printer, print multiplication table for a given number up to 10, but skip the fifth iteration\n",
    "\n",
    "n = int(input(\"Enter number\"))\n",
    "\n",
    "for i in range(1, 11, 1):\n",
    "    if i == 5:\n",
    "        continue\n",
    "    res = n * i\n",
    "    print(res)"
   ]
  },
  {
   "cell_type": "code",
   "execution_count": null,
   "id": "6fb85ef0",
   "metadata": {},
   "outputs": [],
   "source": []
  }
 ],
 "metadata": {
  "kernelspec": {
   "display_name": "Python 3",
   "language": "python",
   "name": "python3"
  },
  "language_info": {
   "codemirror_mode": {
    "name": "ipython",
    "version": 3
   },
   "file_extension": ".py",
   "mimetype": "text/x-python",
   "name": "python",
   "nbconvert_exporter": "python",
   "pygments_lexer": "ipython3",
   "version": "3.12.4"
  }
 },
 "nbformat": 4,
 "nbformat_minor": 5
}
