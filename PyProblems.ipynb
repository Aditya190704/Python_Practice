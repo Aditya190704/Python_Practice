{
 "cells": [
  {
   "cell_type": "code",
   "execution_count": null,
   "id": "d62027fb",
   "metadata": {},
   "outputs": [
    {
     "name": "stdout",
     "output_type": "stream",
     "text": [
      "Order total so far: 23\n",
      "Order total so far: 68\n",
      "Order total so far: 102\n",
      "Order total so far: 125\n",
      "Order total so far: 146\n",
      "your total bill is 146, Thanks for  shopping with us\n"
     ]
    }
   ],
   "source": [
    "# Write a Python program which will keep adding a stream of numbers inputted by the user. The adding stops as soon as user presses q key on the keyboard\n",
    "\n",
    "sum = 0\n",
    "while(True):\n",
    "    User = input(\"Enter Item Price\")\n",
    "    if User != 'q':\n",
    "        sum = sum + int(User)\n",
    "        print(f\"Order total so far: {sum}\")\n",
    "    else:\n",
    "        print(f\"your total bill is {sum}, Thanks for  shopping with us\")\n",
    "        break\n"
   ]
  },
  {
   "cell_type": "code",
   "execution_count": 4,
   "id": "f556ef7f",
   "metadata": {},
   "outputs": [
    {
     "name": "stdout",
     "output_type": "stream",
     "text": [
      "120\n"
     ]
    }
   ],
   "source": [
    "def factorial (number):\n",
    "    if number == 0 or number == 1:\n",
    "        return 1\n",
    "    else:\n",
    "        return number * factorial(number - 1)\n",
    "    \n",
    "def factorialTrailingZeros(number):\n",
    "    pass\n",
    "if __name__ == '__main__':\n",
    "    number = int(input(\"Enter a number\"))\n",
    "    fac = factorial(number)\n",
    "    print(fac)"
   ]
  },
  {
   "cell_type": "code",
   "execution_count": 6,
   "id": "1d4ab5ef",
   "metadata": {},
   "outputs": [
    {
     "ename": "SyntaxError",
     "evalue": "invalid syntax. Perhaps you forgot a comma? (2262331762.py, line 15)",
     "output_type": "error",
     "traceback": [
      "\u001b[1;36m  Cell \u001b[1;32mIn[6], line 15\u001b[1;36m\u001b[0m\n\u001b[1;33m    print(f\"{amount} INR is equal to {amount * float{currencyDict[currency]}}{currency}\")\u001b[0m\n\u001b[1;37m                                      ^\u001b[0m\n\u001b[1;31mSyntaxError\u001b[0m\u001b[1;31m:\u001b[0m invalid syntax. Perhaps you forgot a comma?\n"
     ]
    }
   ],
   "source": [
    "# Currency Convertor\n",
    "\n",
    "with open('currency.txt') as f:\n",
    "    lines = f.readlines()\n",
    "\n",
    "currencyDict = {}\n",
    "for line in lines:\n",
    "    parsed = line.split(\"\\t\")\n",
    "    currencyDict[parsed[0]] = parsed[1]\n",
    "\n",
    "amount = int(input(\"Enter Amount:\\n\"))\n",
    "print(\"Enter the name of currency you want to convert this amount to? Available options:\\n\")\n",
    "[print(item) for item in currencyDict.keys()]\n",
    "currency = input(\"Please enter one of these values:\\n\")\n",
    "print(f\"{amount} INR is equal to {amount * float{currencyDict[currency]}}{currency}\")"
   ]
  },
  {
   "cell_type": "code",
   "execution_count": null,
   "id": "c87dd1d0",
   "metadata": {},
   "outputs": [],
   "source": []
  }
 ],
 "metadata": {
  "kernelspec": {
   "display_name": "Python 3",
   "language": "python",
   "name": "python3"
  },
  "language_info": {
   "codemirror_mode": {
    "name": "ipython",
    "version": 3
   },
   "file_extension": ".py",
   "mimetype": "text/x-python",
   "name": "python",
   "nbconvert_exporter": "python",
   "pygments_lexer": "ipython3",
   "version": "3.12.4"
  }
 },
 "nbformat": 4,
 "nbformat_minor": 5
}
