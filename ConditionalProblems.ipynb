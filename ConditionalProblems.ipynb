{
 "cells": [
  {
   "cell_type": "code",
   "execution_count": 4,
   "id": "e25b36f1",
   "metadata": {},
   "outputs": [
    {
     "name": "stdout",
     "output_type": "stream",
     "text": [
      "Seniors\n"
     ]
    }
   ],
   "source": [
    "# Age Group Categorization\n",
    "# Classify a Person's age group: Child(<13), Teenagers(13-19), Adult(20-59), Senior(60+)\n",
    "Age = int(input(\"Enter The Age\"))\n",
    "if Age <= 13:\n",
    "    print(\"Child\")\n",
    "elif 13 <= Age <= 19:\n",
    "    print(\"Teenagers\")\n",
    "elif 20 <= Age <= 59:\n",
    "    print(\"Adults\")\n",
    "else:\n",
    "    print(\"Seniors\") "
   ]
  },
  {
   "cell_type": "code",
   "execution_count": null,
   "id": "72df0f87",
   "metadata": {},
   "outputs": [],
   "source": []
  },
  {
   "cell_type": "code",
   "execution_count": null,
   "id": "a55b62dc",
   "metadata": {},
   "outputs": [],
   "source": []
  }
 ],
 "metadata": {
  "kernelspec": {
   "display_name": "Python 3",
   "language": "python",
   "name": "python3"
  },
  "language_info": {
   "codemirror_mode": {
    "name": "ipython",
    "version": 3
   },
   "file_extension": ".py",
   "mimetype": "text/x-python",
   "name": "python",
   "nbconvert_exporter": "python",
   "pygments_lexer": "ipython3",
   "version": "3.12.4"
  }
 },
 "nbformat": 4,
 "nbformat_minor": 5
}
