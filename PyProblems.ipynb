{
 "cells": [
  {
   "cell_type": "code",
   "execution_count": null,
   "id": "d62027fb",
   "metadata": {},
   "outputs": [
    {
     "name": "stdout",
     "output_type": "stream",
     "text": [
      "Order total so far: 23\n",
      "Order total so far: 68\n",
      "Order total so far: 102\n",
      "Order total so far: 125\n",
      "Order total so far: 146\n",
      "your total bill is 146, Thanks for  shopping with us\n"
     ]
    }
   ],
   "source": [
    "# Write a Python program which will keep adding a stream of numbers inputted by the user. The adding stops as soon as user presses q key on the keyboard\n",
    "\n",
    "sum = 0\n",
    "while(True):\n",
    "    User = input(\"Enter Item Price\")\n",
    "    if User != 'q':\n",
    "        sum = sum + int(User)\n",
    "        print(f\"Order total so far: {sum}\")\n",
    "    else:\n",
    "        print(f\"your total bill is {sum}, Thanks for  shopping with us\")\n",
    "        break\n"
   ]
  },
  {
   "cell_type": "code",
   "execution_count": 4,
   "id": "f556ef7f",
   "metadata": {},
   "outputs": [
    {
     "name": "stdout",
     "output_type": "stream",
     "text": [
      "120\n"
     ]
    }
   ],
   "source": [
    "def factorial (number):\n",
    "    if number == 0 or number == 1:\n",
    "        return 1\n",
    "    else:\n",
    "        return number * factorial(number - 1)\n",
    "    \n",
    "def factorialTrailingZeros(number):\n",
    "    pass\n",
    "if __name__ == '__main__':\n",
    "    number = int(input(\"Enter a number\"))\n",
    "    fac = factorial(number)\n",
    "    print(fac)"
   ]
  },
  {
   "cell_type": "code",
   "execution_count": null,
   "id": "1d4ab5ef",
   "metadata": {},
   "outputs": [
    {
     "name": "stdout",
     "output_type": "stream",
     "text": [
      "01123"
     ]
    }
   ],
   "source": [
    "# Fibonacci Series\n",
    "\n",
    "n = int(input(\"Enter the numbers\"))\n",
    "a, b = 0, 1\n",
    "for _ in range(n):\n",
    "    print(a, end=\"\") # This prints the current value of a (the Fibonacci term).end=\" \" ensures the output stays on the same line, separated by a space.\n",
    "    a, b = b, a + b\n",
    "# This is the most important line: Fibonacci logic.\n",
    "# Let’s break it down:\n",
    "\n",
    "# New a becomes the current b.\n",
    "\n",
    "# New b becomes the sum of current a and b."
   ]
  },
  {
   "cell_type": "code",
   "execution_count": null,
   "id": "c87dd1d0",
   "metadata": {},
   "outputs": [
    {
     "name": "stdout",
     "output_type": "stream",
     "text": [
      "vowels count 3\n"
     ]
    }
   ],
   "source": [
    "# Check the string has Vowel char or not\n",
    "\n",
    "n = input(\"Enter The Character\").lower()\n",
    "vowels = 'aeiou'\n",
    "\n",
    "count = sum(1 for char in n if char in vowels)\n",
    "# This is a compact Python technique using:\n",
    "\n",
    "# Generator Expression: (1 for char in s if char in vowels)\n",
    "\n",
    "# sum(...): Adds up 1 for each vowel found.\n",
    "\n",
    "# 👉 Let’s break this down:\n",
    "\n",
    "# for char in s: Goes through each character in the string s.\n",
    "\n",
    "# if char in vowels: Checks if the character is one of 'a', 'e', 'i', 'o', 'u'.\n",
    "\n",
    "# 1 for ...: If it is, it gives a 1.\n",
    "\n",
    "# sum(...): Adds up all the 1s, which gives the total count of vowels.\n",
    "print(\"vowels count\", count)"
   ]
  },
  {
   "cell_type": "code",
   "execution_count": null,
   "id": "9b87f2ea",
   "metadata": {},
   "outputs": [],
   "source": []
  }
 ],
 "metadata": {
  "kernelspec": {
   "display_name": "Python 3",
   "language": "python",
   "name": "python3"
  },
  "language_info": {
   "codemirror_mode": {
    "name": "ipython",
    "version": 3
   },
   "file_extension": ".py",
   "mimetype": "text/x-python",
   "name": "python",
   "nbconvert_exporter": "python",
   "pygments_lexer": "ipython3",
   "version": "3.12.4"
  }
 },
 "nbformat": 4,
 "nbformat_minor": 5
}
