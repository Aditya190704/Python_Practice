{
 "cells": [
  {
   "cell_type": "code",
   "execution_count": 2,
   "id": "65196e5f",
   "metadata": {},
   "outputs": [
    {
     "name": "stdout",
     "output_type": "stream",
     "text": [
      "Final Count of positive number is: 6\n"
     ]
    }
   ],
   "source": [
    "numbers = [1, -2, 3, -4, 5, 6, -7, -8, 9, 10]\n",
    "positive_number_count = 0\n",
    "for num in numbers:\n",
    "    if num > 0:\n",
    "        positive_number_count += 1\n",
    "print(\"Final Count of positive number is:\", positive_number_count)"
   ]
  },
  {
   "cell_type": "markdown",
   "id": "cbf82051",
   "metadata": {},
   "source": []
  },
  {
   "cell_type": "code",
   "execution_count": null,
   "id": "c70e177a",
   "metadata": {},
   "outputs": [],
   "source": []
  }
 ],
 "metadata": {
  "kernelspec": {
   "display_name": "Python 3",
   "language": "python",
   "name": "python3"
  },
  "language_info": {
   "codemirror_mode": {
    "name": "ipython",
    "version": 3
   },
   "file_extension": ".py",
   "mimetype": "text/x-python",
   "name": "python",
   "nbconvert_exporter": "python",
   "pygments_lexer": "ipython3",
   "version": "3.12.4"
  }
 },
 "nbformat": 4,
 "nbformat_minor": 5
}
