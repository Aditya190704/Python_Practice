{
 "cells": [
  {
   "cell_type": "code",
   "execution_count": null,
   "id": "d62027fb",
   "metadata": {},
   "outputs": [
    {
     "name": "stdout",
     "output_type": "stream",
     "text": [
      "Order total so far: 23\n",
      "Order total so far: 68\n",
      "Order total so far: 102\n",
      "Order total so far: 125\n",
      "Order total so far: 146\n",
      "your total bill is 146, Thanks for  shopping with us\n"
     ]
    }
   ],
   "source": [
    "# Write a Python program which will keep adding a stream of numbers inputted by the user. The adding stops as soon as user presses q key on the keyboard\n",
    "\n",
    "sum = 0\n",
    "while(True):\n",
    "    User = input(\"Enter Item Price\")\n",
    "    if User != 'q':\n",
    "        sum = sum + int(User)\n",
    "        print(f\"Order total so far: {sum}\")\n",
    "    else:\n",
    "        print(f\"your total bill is {sum}, Thanks for  shopping with us\")\n",
    "        break\n"
   ]
  },
  {
   "cell_type": "code",
   "execution_count": null,
   "id": "f556ef7f",
   "metadata": {},
   "outputs": [],
   "source": []
  }
 ],
 "metadata": {
  "kernelspec": {
   "display_name": "Python 3",
   "language": "python",
   "name": "python3"
  },
  "language_info": {
   "codemirror_mode": {
    "name": "ipython",
    "version": 3
   },
   "file_extension": ".py",
   "mimetype": "text/x-python",
   "name": "python",
   "nbconvert_exporter": "python",
   "pygments_lexer": "ipython3",
   "version": "3.12.4"
  }
 },
 "nbformat": 4,
 "nbformat_minor": 5
}
